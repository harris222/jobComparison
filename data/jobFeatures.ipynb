{
 "metadata": {
  "language_info": {
   "codemirror_mode": {
    "name": "ipython",
    "version": 3
   },
   "file_extension": ".py",
   "mimetype": "text/x-python",
   "name": "python",
   "nbconvert_exporter": "python",
   "pygments_lexer": "ipython3",
   "version": "3.9.0-final"
  },
  "orig_nbformat": 2,
  "kernelspec": {
   "name": "python3",
   "display_name": "Python 3.9.0 64-bit",
   "metadata": {
    "interpreter": {
     "hash": "7d71111c338497645996e5e06e7d9a298c3a61ed0c73ada9df3ad6ae7d68d146"
    }
   }
  }
 },
 "nbformat": 4,
 "nbformat_minor": 2,
 "cells": [
  {
   "cell_type": "code",
   "execution_count": 2,
   "metadata": {},
   "outputs": [],
   "source": [
    "import pandas as pd\n",
    "import numpy as np"
   ]
  },
  {
   "cell_type": "code",
   "execution_count": 3,
   "metadata": {},
   "outputs": [],
   "source": [
    "a = pd.DataFrame({\"Job Title\" : [\"Database Administrator\", \"Chef\"], \"Skills\" : [\"SQL, Python, Attention to Detail\", \"Cooking, Wine Tasting\"]})"
   ]
  },
  {
   "cell_type": "code",
   "execution_count": 4,
   "metadata": {},
   "outputs": [
    {
     "output_type": "execute_result",
     "data": {
      "text/plain": [
       "                Job Title                            Skills\n",
       "0  Database Administrator  SQL, Python, Attention to Detail\n",
       "1                    Chef             Cooking, Wine Tasting"
      ],
      "text/html": "<div>\n<style scoped>\n    .dataframe tbody tr th:only-of-type {\n        vertical-align: middle;\n    }\n\n    .dataframe tbody tr th {\n        vertical-align: top;\n    }\n\n    .dataframe thead th {\n        text-align: right;\n    }\n</style>\n<table border=\"1\" class=\"dataframe\">\n  <thead>\n    <tr style=\"text-align: right;\">\n      <th></th>\n      <th>Job Title</th>\n      <th>Skills</th>\n    </tr>\n  </thead>\n  <tbody>\n    <tr>\n      <th>0</th>\n      <td>Database Administrator</td>\n      <td>SQL, Python, Attention to Detail</td>\n    </tr>\n    <tr>\n      <th>1</th>\n      <td>Chef</td>\n      <td>Cooking, Wine Tasting</td>\n    </tr>\n  </tbody>\n</table>\n</div>"
     },
     "metadata": {},
     "execution_count": 4
    }
   ],
   "source": [
    "a.head()"
   ]
  },
  {
   "cell_type": "code",
   "execution_count": 16,
   "metadata": {},
   "outputs": [],
   "source": [
    "titles = [(\"Gamer\", \"exercise, dexterity, R\"), (\"Web Developer\", \"googling, javascript, typescript, css, html, json, passion\"), (\"Data Scientist\", \"statistics, graphing, dataframes, attention to detail\")]               \n",
    "\n",
    "summary = pd.concat([pd.DataFrame([[title[0], title[1]]], columns=['Job Title', 'Skills']) for title in titles], ignore_index=True)\n",
    "summary = pd.concat([summary, a])"
   ]
  },
  {
   "cell_type": "code",
   "execution_count": 19,
   "metadata": {},
   "outputs": [],
   "source": [
    "summary.index = [0,1,2,3,4]"
   ]
  },
  {
   "cell_type": "code",
   "execution_count": 20,
   "metadata": {},
   "outputs": [
    {
     "output_type": "execute_result",
     "data": {
      "text/plain": [
       "                Job Title                                             Skills\n",
       "0                   Gamer                             exercise, dexterity, R\n",
       "1           Web Developer  googling, javascript, typescript, css, html, j...\n",
       "2          Data Scientist  statistics, graphing, dataframes, attention to...\n",
       "3  Database Administrator                   SQL, Python, Attention to Detail\n",
       "4                    Chef                              Cooking, Wine Tasting"
      ],
      "text/html": "<div>\n<style scoped>\n    .dataframe tbody tr th:only-of-type {\n        vertical-align: middle;\n    }\n\n    .dataframe tbody tr th {\n        vertical-align: top;\n    }\n\n    .dataframe thead th {\n        text-align: right;\n    }\n</style>\n<table border=\"1\" class=\"dataframe\">\n  <thead>\n    <tr style=\"text-align: right;\">\n      <th></th>\n      <th>Job Title</th>\n      <th>Skills</th>\n    </tr>\n  </thead>\n  <tbody>\n    <tr>\n      <th>0</th>\n      <td>Gamer</td>\n      <td>exercise, dexterity, R</td>\n    </tr>\n    <tr>\n      <th>1</th>\n      <td>Web Developer</td>\n      <td>googling, javascript, typescript, css, html, j...</td>\n    </tr>\n    <tr>\n      <th>2</th>\n      <td>Data Scientist</td>\n      <td>statistics, graphing, dataframes, attention to...</td>\n    </tr>\n    <tr>\n      <th>3</th>\n      <td>Database Administrator</td>\n      <td>SQL, Python, Attention to Detail</td>\n    </tr>\n    <tr>\n      <th>4</th>\n      <td>Chef</td>\n      <td>Cooking, Wine Tasting</td>\n    </tr>\n  </tbody>\n</table>\n</div>"
     },
     "metadata": {},
     "execution_count": 20
    }
   ],
   "source": [
    "summary"
   ]
  },
  {
   "cell_type": "code",
   "execution_count": 21,
   "metadata": {},
   "outputs": [],
   "source": [
    "summary.to_csv(\"jobFeatures.csv\")"
   ]
  },
  {
   "cell_type": "code",
   "execution_count": null,
   "metadata": {},
   "outputs": [],
   "source": []
  }
 ]
}