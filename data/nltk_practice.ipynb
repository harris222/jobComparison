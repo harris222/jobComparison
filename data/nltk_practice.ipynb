{
 "metadata": {
  "language_info": {
   "codemirror_mode": {
    "name": "ipython",
    "version": 3
   },
   "file_extension": ".py",
   "mimetype": "text/x-python",
   "name": "python",
   "nbconvert_exporter": "python",
   "pygments_lexer": "ipython3",
   "version": "3.9.0-final"
  },
  "orig_nbformat": 2,
  "kernelspec": {
   "name": "python3",
   "display_name": "Python 3.9.2 64-bit",
   "metadata": {
    "interpreter": {
     "hash": "7d71111c338497645996e5e06e7d9a298c3a61ed0c73ada9df3ad6ae7d68d146"
    }
   }
  }
 },
 "nbformat": 4,
 "nbformat_minor": 2,
 "cells": [
  {
   "cell_type": "code",
   "execution_count": null,
   "metadata": {},
   "outputs": [],
   "source": [
    "from nltk.corpus import wordnet as wn"
   ]
  },
  {
   "cell_type": "code",
   "execution_count": 66,
   "metadata": {},
   "outputs": [],
   "source": [
    "synsets = wn.synsets('software')"
   ]
  },
  {
   "cell_type": "code",
   "execution_count": 67,
   "metadata": {},
   "outputs": [
    {
     "output_type": "stream",
     "name": "stdout",
     "text": [
      "(computer science) written programs or procedures or rules and associated documentation pertaining to the operation of a computer system and that are stored in read/write memory\n"
     ]
    }
   ],
   "source": [
    "for synset in synsets:\n",
    "    print(synset.definition())"
   ]
  },
  {
   "cell_type": "code",
   "execution_count": 316,
   "metadata": {},
   "outputs": [
    {
     "output_type": "stream",
     "name": "stdout",
     "text": [
      "a person who makes plans\n[Lemma('planner.n.01.planner'), Lemma('planner.n.01.contriver'), Lemma('planner.n.01.deviser')]\n[Synset('person.n.01')]\na person who designs and writes and tests computer programs\n[Lemma('programmer.n.01.programmer'), Lemma('programmer.n.01.computer_programmer'), Lemma('programmer.n.01.coder'), Lemma('programmer.n.01.software_engineer')]\n[Synset('computer_user.n.01'), Synset('engineer.n.01')]\n0.25\n"
     ]
    }
   ],
   "source": [
    "scholar = wn.synset('planner.n.1')\n",
    "book = wn.synset(\"programmer.n.1\") ## Use KeyError to catch exceptions. Some words will not be properly input so don't worry about those errors.\n",
    "\n",
    "print(scholar.definition())\n",
    "print(scholar.lemmas())\n",
    "print(scholar.hypernyms())\n",
    "print(book.definition())\n",
    "print(book.lemmas())\n",
    "print(book.hypernyms())\n",
    "print(book.path_similarity(scholar))"
   ]
  },
  {
   "cell_type": "code",
   "execution_count": 223,
   "metadata": {},
   "outputs": [
    {
     "output_type": "stream",
     "name": "stdout",
     "text": [
      "[   Synset('programmer.n.01'),\n    [Synset('cracker.n.03')],\n    [Synset('hacker.n.02')],\n    [Synset('hacker.n.03')]]\n"
     ]
    }
   ],
   "source": [
    "import pprint\n",
    "pp = pprint.PrettyPrinter(indent=4)\n",
    "\n",
    "def hypernyms(synset):\n",
    "    return synset.hyponyms()\n",
    "pp.pprint(scholar.tree(rel=hypernyms))"
   ]
  },
  {
   "cell_type": "code",
   "execution_count": 33,
   "metadata": {},
   "outputs": [
    {
     "output_type": "execute_result",
     "data": {
      "text/plain": [
       "0.14285714285714285"
      ]
     },
     "metadata": {},
     "execution_count": 33
    }
   ],
   "source": [
    "hit = wn.synset('hit.v.01')\n",
    "slap = wn.synset('slap.v.01')\n",
    "\n",
    "hit.path_similarity(slap)"
   ]
  },
  {
   "source": [
    "path_similarity is based on a score of 0 to 1 \n",
    "\n",
    "based on how close two words are to each other in a hpyernym taxonomy. \n",
    "\n",
    "**0.5** is very closely similar in nltk\n",
    "**0.11** is even a strong correlation"
   ],
   "cell_type": "markdown",
   "metadata": {}
  },
  {
   "cell_type": "code",
   "execution_count": 306,
   "metadata": {},
   "outputs": [
    {
     "output_type": "execute_result",
     "data": {
      "text/plain": [
       "[Synset('programmer.n.01')]"
      ]
     },
     "metadata": {},
     "execution_count": 306
    }
   ],
   "source": [
    "wn.synsets(\"\")"
   ]
  },
  {
   "cell_type": "code",
   "execution_count": null,
   "metadata": {},
   "outputs": [],
   "source": []
  }
 ]
}