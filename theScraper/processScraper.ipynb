{
 "metadata": {
  "language_info": {
   "codemirror_mode": {
    "name": "ipython",
    "version": 3
   },
   "file_extension": ".py",
   "mimetype": "text/x-python",
   "name": "python",
   "nbconvert_exporter": "python",
   "pygments_lexer": "ipython3",
   "version": "3.7.2-final"
  },
  "orig_nbformat": 2,
  "kernelspec": {
   "name": "python3",
   "display_name": "Python 3.7.2 64-bit ('jobEnv')",
   "metadata": {
    "interpreter": {
     "hash": "58f31482c07c0d3280dafb5159e5a90aa73550b3f3373ba0888d44afe8c0a4cb"
    }
   }
  }
 },
 "nbformat": 4,
 "nbformat_minor": 2,
 "cells": [
  {
   "cell_type": "code",
   "execution_count": 2,
   "metadata": {},
   "outputs": [
    {
     "output_type": "execute_result",
     "data": {
      "text/plain": [
       " database access control levels\\nDevelop routines for end users to facilitate best practices database use\\nProvide position-related subject matter guidance to members of the Applications team, and the Information Technology Division team as appropriate\\nOccasional travel to various work locations is required to fulfill the duties of the position\\nPerform other related duties as assigned\\n\\nEducation and skills required:\\nPost-secondary education in Computer Science or a related field\\nCertification in Database Management and Administration\\nMinimum 5 years of related progressive experience with designing, building, installing, configuring and supporting database servers, including Microsoft SQL, Access, MySQL\\nStrong understanding of database structures, theories, principles, and practices\\nHands-on database tuning and troubleshooting experience\\nExperience with data processing flowcharting techniques\\nProject management experience\\nGood understanding of organizational goals and objectives\\nKnowledge of applicable data privacy practices and laws\\nStrong problem solving, analytical and research skills\\nExcellent oral, written, consultative, coordination and interpersonal skills.\\nAbility to demonstrate initiative consistently with commitment to quality improvement, sharing process improvement initiatives with management\\nDemonstrated organizational and time-management skills including the ability to work both independently and as part of a team, and work methodically and prioritize workload to meet multiple demands and deadlines effectively with minimal supervision\\nDemonstrated ability to exercise discretion and tact and to maintain a high degree of confidentiality and professionalism\\nUpon a conditional offer of employment, a Criminal Record Check will be required\\nApplicants must be prepared for skill testing.\\n15 days ago\\nReport job'],\n",
       " ['Oracle Database Enterprise Edition Administrator',\n",
       "  'Samiti Technology Company is actively seeking an Oracle Database Enterprise Edition Consultant for a 2-year contract position in Toronto, ON, Canada. Start Date is April 1st.\\nAn ideal candidate will have the following skills:\\nDemonstrated expertise with Oracle Database Enterprise Edition\\nDemonstrates advanced knowledge of BI, data warehousing, data modeling techniques, tools and approaches\\nNice to Have:\\nWorking in Government or Public Sector organizations\\nSamiti Technology Company offers full- service contract, contract-to-hire and direct hire solutions to clients globally.\\nSamiti Technology Company is an EOE\\nContract length: 48 months\\nJob Types: Full-time, Contract\\nSalary: $75.00-$85.00 per hour\\nSchedule:\\nMonday to Friday\\nExperience:\\nBI, data warehousing, tools and approaches: 1 year (Preferred)\\nWorking in Government or Public Sector organizations: 1 year (Preferred)\\nOracle Database Administrator/Operational Support : 10 years (Preferred)\\nOracle Database Enterprise Edition: 10 years (Preferred)\\n5 days ago\\nReport job'],\n",
       " ['Database Administrator',\n",
       "  \"Grow with the best. Join a smart, creative, and inspired team that works behind the scenes to support operational excellence. Our functional services teams (FSTs) provide services to 22,000 employees in over 350 locations worldwide. Bringing together individuals with diverse backgrounds, talents, and expertise, our FSTs are vital to making our Company stronger. Explore opportunities in Information Technology Services.\\nYour Opportunity\\nStantec is currently seeking an Oracle E-Business Database Administrator to join our team.\\nYour Key Responsibilities\\nProviding support for Oracle Applications upgrades.\\nProblem management [i.e., problem identification, management and resolution]\\nPatch analysis and patch application\\nPerformance monitoring and tuning of Databases, Oracle Application Servers and E-business Software.\\nDatabase Backup and Recovery.\\nPlanning, Testing and Performing software upgrades.\\nAssisting with database loads and data conversion activities.\\nCloning and supporting environments.\\nService request resolution.\\nSupporting and enhancing Stantec's High Availability Architecture and disaster recovery operations.\\nYour Capabilities and Credentials\\nSound understanding of database fundamentals with Database Backup and Recovery, partitioning and security.\\nAbility to use Oracle database (11g, 12c) and Oracle E-Business Suite applications.\\nExperience with RHEL Linux, experience working with other Operating systems such as Itanium, AIX or Solaris would be an asset.\\nExperience in shell scripting, PL/SQL, Perl or Python programming will be considered an asset.\\nStrong verbal and written communication skills; this position requires a high degree of involvement participating in meetings and regularly communicating to various stakeholders.\\nEducation and Experience\\nMinimum of 5 years’ experience providing Oracle Database Administrator support.\\nMinimum of 2 years’ providing Oracle E-Business Suite support in a UNIX environment, working with Oracle E-Business suite versions R12, and Oracle 11g and 12c.\\nPost-secondary degree in Information Technology or related field. Equivalent education and experience will be considered.\\nOracle Certification would be an asset.\\nPlease note that this position will require after-hours and on-call work. Typical office environment working with computers and remaining sedentary for long periods of time.\\nThis description is not a comprehensive listing of activities, duties or responsibilities that may be required of the employee and other duties, responsibilities and activities may be assigned or may be changed at any time with or without notice.\\nStantec is a place where the best and brightest come to build on each other’s talents, do exciting work, and make an impact on the world around us. Join us and redefine your personal best.\\nJob: Database Administration\\nPrimary Location: Canada-Alberta-Edmonton\\nOther Locations: Canada-New Brunswick-Moncton, Canada-Ontario-Stoney Creek, Canada-Alberta-Medicine Hat, Canada-Ontario-Barrie, Canada-Alberta-Fort McMurray, Canada-British Columbia-Quesnel, Canada-Ontario-Sudbury, Canada-Ontario-North Bay, Canada-Nova Scotia-Dartmouth, Canada-Manitoba-Winnipeg, Canada-Alberta-Lethbridge, Canada-Prince Edward Island-Charlottetown, Canada-Ontario-Toronto, Canada-Ontario-Windsor, Canada-Newfoundland and Labrador-St. John's, Canada-Ontario-Ottawa, Canada-British Columbia-Burnaby, Canada-Ontario-Mississauga, Canada-Alberta-Red Deer, Canada-Ontario-Waterloo, Canada-New Brunswick-Saint John, Canada-British Columbia-Terrace, Canada-British Columbia-Vancouver, Canada-Alberta-Calgary, Canada-Nova Scotia-Membertou, Canada-Ontario-London, Canada-British Columbia-Victoria, Canada-Northwest Territories-Yellowknife, Canada-Saskatchewan-Saskatoon, Canada-British Columbia-Kelowna, Canada-Saskatchewan-Regina, Canada-New Brunswick-Fredericton, Canada-Nunavut-Iqaluit, Canada-Ontario-Markham, Canada-British Columbia-Sidney, Canada-British Columbia-Kamloops, Canada-British Columbia-Prince George, Canada-British Columbia-Surrey\\nEmployee Status: Regular\\nJob Level: Individual Contributor\\nTravel: No\\nSchedule: Full-time\\nReq ID: 20000219\\nStantec provides equal employment opportunities to all qualified employees and applicants for future and current employment and prohibit discrimination on the grounds of race, color, religion, sex, national origin, age, marital status, genetic information, disability, protected veteran status, sexual orientation, gender identity or gender expression. We prohibit discrimination in decisions concerning recruitment, hiring, referral, promotion, compensation, fringe benefits, job training, terminations or any other condition of employment. Stantec is in compliance with local, state and federal laws and regulations and ensures equitable opportunities in all aspects of employment. EEO including Disability/Protected Veterans\\n30+ days ago\\nReport job\"],\n",
       " ['Database Administrator',\n",
       "  \"At Caesars Windsor, it’s our mission to inspire grown-ups to play! One of nearly 40 Caesars Entertainment properties worldwide, we create memorable experiences, personalize rewards, and delight every guest, and every team member, every time. Our code of commitment and six core values guide our strategies and how we work together as a team. Those values are: Celebrate Success, Integrity, Service with Passion, Diversity, Caring Culture and Ownership. Join the Caesars Empire. Visit www.caesarswindsor.com to learn more.\\nPosition Summary\\nReporting to the Manager, Desktop/Servers, Windsor Casino Limited, the Database Administrator role will create, monitor, maintain, and performance tune production databases while ensuring high levels of data availability. This individual is also responsible for developing, implementing, and overseeing database policies and procedures to ensure the integrity and availability of databases and their accompanying software. Responsible for design, implementation and monitoring of data systems to include but not limited to: SQL Server and AS/400 platforms.\\nKey Accountabilities\\nAssess and develop long-term strategic goals for production databases in conjunction with data owners and department managers.\\nWork with the IT staff to develop database architectures, coding standards and quality assurance policies and procedures.\\nConfigure Database Servers to industry best practices.\\nDesign and creation of routine maintenance for database backups, index maintenance and error notification that meet business goals including Recovery Point Objective(RPO) and Recovery Time Objective(RTO) for each system and database.\\nDevelopment and implementation of High Availability strategies.\\nProperly implement and maintain security consistent with AGCO, PIPEDA and other regulation or industry standards for all assigned Database systems.\\nMust have profound working knowledge of DB Server Security Mechanisms.\\nLeveraging Active Directory for Authentication and Authorization including Domain Users and Groups.\\nMust have full working knowledge of Database Schema’s, structures, and design methodologies.\\nFollow best practices to ensure database access as well as database consistency and integrity.\\nCreate processes for new database development/changes to existing databases and follow best practices to optimize the database environment.\\nPlan, coordinate and monitor data migrations between systems.\\nDevelop policy and standard operating procedures for all data change.\\nEnsure data security via access controls and restrictions via required data access.\\nDevelop scripts, coding and trouble shoot as required.\\nDevelopment of adequate test methodologies for data projects and applications.\\nKnowledge of Visual Studio Data Tools (part of Visual Studio) as it pertains to data projects, source control and deployment. This will include use of BACPACs/DACPAs\\nAbility using SQL Server Integration Services (SSIS), BCP (Bulk Copy Utility) and similar tools for data movement\\nGeneral knowledge of virtualization technologies such as VMWare or Hyper-V\\nCapacity planning and forecasting for all assigned Databases.\\nComplies with Windsor Casino Limited policies and procedures.\\nPerforms any and all related tasks as assigned by management.\\nUpholds the highest standard of internal and external customer service at all times.\\nQualifications\\nCollege diploma or a University Bachelor’s Degree in Computer Science or a related field with 3 years equivalent work.\\nMinimum three years experience in a casino/hospitality environment related to I.T. or experience deemed acceptable by Windsor Casino Limited.\\nGeneral knowledge of all Caesars Windsor’s data setup and design; including AS400 and other non-SQL databases\\nStrong understanding of database structures, theories, principles, and practices\\n3 years’ experience with MS SQL Server, Visual Basic and .Net\\nWorking technical experience with designing, building, installing, configuring, and supporting database servers\\nHands-on database tuning and troubleshooting experience\\nExperience with data processing flowcharting techniques\\nProject management experience\\nStrong understanding of the organization’s goals and objectives\\nKnowledge of applicable data privacy practices and laws\\nAbility to communicate effectively, both verbally and in writing.\\nAbility to organize and prioritize work to meet strict deadlines.\\nAbility to obtain a Gaming Employee License.\\nPhysical Demands:\\nPhysical effort requiring manual dexterity is constantly required. (i.e. more than 75% of time on the job)\\nMust be available to work all shifts and have the ability to be on call outside of scheduled work hours as required.\\nMust possess a good attendance record as stipulated in the Non-Union Attendance Management Policy. Anyone with over 5 occurrences will not be considered.\\nApplication Instructions\\nPlease submit applications directly to Caesars Windsor from Indeed by visiting wclonline.com or by clicking careers at the bottom of www.caesarswindsor.com and applying to the Database Administrator position (WCL-21-02-1).\\nApplicants must be at least 19 years of age to work for Caesars Windsor\\nCaesars Windsor has created policies and procedures to meet the required Accessibility Standards for Customer Service, Ontario Regulation 429/07 under the Accessibility for Ontarians with Disabilities Act. 2005. Accommodations are available for applicants with disabilities. If you require accommodation, please contact us in order to determine an acceptable format.\\nJob Type: Full Time, Permanent\\nJob Types: Full-time, Permanent\\nBenefits:\\nCompany pension\\nDental care\\nDisability insurance\\nExtended health care\\nLife insurance\\nOn-site parking\\nPaid time off\\nVision care\\nSchedule:\\n8 hour shift\\nEducation:\\nBachelor's Degree (Preferred)\\nExperience:\\nDatabase Administrator: 3 years (Required)\\nData Querying: 3 years (Preferred)\\nWork remotely:\\nNo\\nCOVID-19 precaution(s):\\nRemote interview process\\nVirtual meetings\\n22 days ago\\nReport job\"],\n",
       " ['Database Administrator',\n",
       "  \"Salary: $32.00/Hourly\\nJob Type: Full Time, Permanent\\nStart Date: As soon as possible\\n\\nLanguage: English\\nMinimum Education: Bachelor's Degree\\nPositions Available: 1\\n\\nNOC Group: Database Analysts and Data Administrators (2172)\\nNOC Job Title: Administrator, Database\\nExpires in 3 days\\nExpires: 2021-03-09\\nPosted: 2020-11-09\\nLast Updated: 2020-11-09\\n\\nJob Location(s)\\n#356-8158 128 Street\\nSurrey, British Columbia\\nV3W 1R1, Canada\\nJob Description\\nThis job is posted by an employment agency or third party on behalf of the employer.\\nEmployer Name: Express Security Services Ltd\\nIndustry Title: Other Information Services (5191)\\n“Express Security Services Ltd” is looking for a Database Administrator/Analyst (NOC Code: 2172) with good communication skills and an upbeat attitude. To be successful as a Database Administrator/Analyst candidate should be professional, polite, and attentive while also being accurate.\\nWork Location: #356-8158 128 Street, Surrey, BC – V3W 1R1\\nResponsibilities:\\nInstall and maintain the performance of database servers.\\nOperate database systems to analyze data.\\nInstall, upgrade, and manage database applications.\\nEnsure reliable system availability by conducting database security and backups.\\nPlan and implement database upgrades and maintenance fixes.\\nDevelop and maintain complex models and logical database designs.\\nIdentify and resolves all issues related to database systems.\\nDevelopment and implementation of data administration polices and standards.\\nBe available for on-call support as needed.\\nWhat we are looking for: Experience and Education:\\nTeam player who could multi-task in a fast setting.\\nAbility to work independently while prioritizing your workload.\\nPossess computer skills in MSOffice and various software packages.\\nBachelor’s degree in computer science or related industry sector preferred.\\n2 to 3 year of experience in related field is required.\\nKnowledge of English Language\\nProgramming Languages and systems:\\nC, C++, MySQL, SQL\\nSalary/Compensation & Benefits:\\nThe base salary for requested position is $32/per hour\\nSalary paid Bi-weekly\\nVacation pay of 4% on each schedule pay cheque.\\nOther benefits as per BC Employment standards Act\\nThe working time:\\nMonday-Friday. The requested position is on Full-time basis i.e. 35 Hours/week.\\nMethod to Apply: Interested eligible candidates can send their Resume along with Cover letter via E-mail on: expressltdjobs@gmail.com\\nHow to Apply\\nExpiring: Mar 09, 2021\\nEmail: expressltdjobs@gmail.com\\nWorkBC\\n30+ days ago\\nReport job\"],\n",
       " ['Senior Database Administrator',\n",
       "  'The Senior Database Administrator reports to the Database Administrator Team Lead and is responsible for the planning, building and maintenance of robust and reliable database clusters supporting our system infrastructure. The key objective of the Database Administration Team, and thus the Senior Database Administrator, is to ensure resulta’s globally deployed database infrastructure is stable, scalable and efficient. To reach this goal, you will collaborate with the Team Lead to define, refine and execute the processes and tasks required. The Senior DBA will help to mentor other team members in their day-to-day tasks. You will also support the Team Lead in planning, technical decisions and collaborating with teams we support for their database needs to develop new insights that could further enhance our platform.\\n\\nIs this role right for me?\\n\\nTo be perfect for this position, you will need to :\\nGuide the Database Administration Team through the creation and execution of our database management;\\n\\nDefine and enforce availability and performance SLAs to maintain our high standards;\\n\\nMaintain detailed, up-to-date documentation of internal data assets;\\n\\nUse Infrastructure as Code (IaC) to automate creation and destruction of clusters;\\n\\nDefine and enforce monitoring and alarming policies to minimize system downtime or performance degradation;\\n\\nEnsure systems are patched, secured and backed up to our standards;\\n\\nOversee the tuning of database engines for improved efficiency and cost;\\n\\nCo-ordinate with cross-functional experts throughout the company to validate and develop new insights;\\n\\nCollaborate with and support development and other teams in delivering on business objectives;\\n\\nExpert analytical and data-driven decision-making skills;\\n\\nCreative thinking and motivated self-starter with an ability to quickly grasp complex concepts and technologies;\\n\\nComfortable leading projects from start to finish with minimal supervision;\\n\\nStrong ability to work within aggressive and dynamic timelines;\\n\\nExcellent team player and positive contributor to the culture of the business;\\n\\nParticipate in On-call rotation for publishing platform.\\n\\nWhat qualifications do I need?\\n\\nThe ideal candidate should possess:\\nUniversity degree or diploma in related field and 5+ years of relevant DBA experience;\\n\\nExpert in large scale MySQL database cluster administration;\\n\\nAdvanced knowledge of SQL optimization;\\n\\nExperience implementing and maintaining best practices for database backups;\\n\\nBasic Linux system administration experience;\\n\\nComfortable administering Mongo or a similar document based database system;\\n\\nIntermediate understanding of PostgreSQL database systems;\\n\\nVirtualization experience, specifically AWS cloud computing and clustering;\\n\\nStrong analytical and data-driven decision-making skills;\\n\\nAbility to work within aggressive and dynamic timelines;\\n\\nStrong communication skills and an ability to interact with all levels of end users and technical resources.\\n\\nExperience managing infrastructure with code (Terraform, Ansible, etc.);\\n\\nSufficient knowledge of scripting languages such as Python or PHP for task automation and monitoring components;\\n\\nFamiliarity with the Atlassian Stack management tools (JIRA, Confluence, Bitbucket).\\n3 days ago\\nReport job']]"
      ]
     },
     "metadata": {},
     "execution_count": 2
    }
   ],
   "source": [
    "import nltk\n",
    "from nltk.corpus import stopwords\n",
    "from nltk.corpus import wordnet as wn\n",
    "import pandas as pd\n",
    "import numpy as np\n",
    "import string\n",
    "import re\n",
    "import json\n",
    "\n",
    "\n",
    "with open(\"scraper.json\", mode=\"r\") as f:\n",
    "    example_arr = json.load(f)\n",
    "\n",
    "example_arr\n"
   ]
  },
  {
   "source": [
    "### We will do the following:\n",
    "1. Figure out number of columns.\n",
    "2. Append every row.\n",
    "3. Be done!\n"
   ],
   "cell_type": "markdown",
   "metadata": {}
  },
  {
   "cell_type": "code",
   "execution_count": 268,
   "metadata": {},
   "outputs": [],
   "source": [
    "def RepresentsInt(s):\n",
    "    try: \n",
    "        int(s)\n",
    "        return True\n",
    "    except ValueError:\n",
    "        return False\n",
    "\n",
    "def compare_two_synsets(existing_word, word_to_add):\n",
    "    '''\n",
    "        if words are not similar, create a new one_hot_encoding,\n",
    "        if words are too similar, keep the existing word as the encoding.\n",
    "    '''\n",
    "    prev_existing_word = existing_word\n",
    "    prev_word_to_add = word_to_add\n",
    "\n",
    "    try:\n",
    "        words_1 = wn.synsets(existing_word)\n",
    "        words_2 = wn.synsets(word_to_add)\n",
    "        \n",
    "        for word_1 in words_1:\n",
    "            for word_2 in words_2:\n",
    "                similarity_score = word_1.path_similarity(word_2)\n",
    "                \n",
    "                ## Non-None check and similarity check\n",
    "                if similarity_score and similarity_score >= 0.5:\n",
    "                    return prev_existing_word \n",
    "        \n",
    "        return prev_word_to_add\n",
    "\n",
    "    except KeyError:     ## We let this go\n",
    "        pass\n",
    "\n",
    "    return prev_word_to_add\n",
    "\n",
    "def find_nth(string, substring, n):\n",
    "   if (n == 1):\n",
    "       return string.find(substring)\n",
    "   else:\n",
    "       return string.find(substring, find_nth(string, substring, n - 1) + 1)"
   ]
  },
  {
   "cell_type": "code",
   "execution_count": 269,
   "metadata": {
    "tags": []
   },
   "outputs": [
    {
     "output_type": "stream",
     "name": "stdout",
     "text": [
      "['senior oracle database administrator', 'posting id:\\n20152\\n\\nposition type:\\nregular/full-time\\n\\n', 'posting,id,position,type,regular,full-time,city,vancouver,bc,canada,location,vancouver,h,o,-,canfor,cwpm_1000,(bc13),canfor’s,strength,come,diversity,skilled,resilient,workforce,a,company,continues,grow,diversify,career,opportunity,let,u,take,opportunity,tell,could,best,fit,canfor,the,opportunity,the,senior,oracle,database,administrator,(dba),responsible,aspect,corporate,database,strategy,planning,security,implementation,consulting,technical,support,the,dba,evaluates,selects,implement,database,software,utility,hardware,meet,corporate,business,system,requirement,according,principle,policy,information,technology,architecture,defined,senior,management,the,goal,database,administrator,develop,efficient,effective,facility,procedure,design,storage,maintenance,protection,corporate,data,resource,the,position,generally,involved,number,project,may,require,work,outside,regular,business,hour,this,position,also,participate,on-call,rotation,it,operation,support,travel,may,involved,this,role,based,either,head,office,vancouver,bc,canfor,administration,centre,prince,george,bc,key,responsibility,database,strategy,planning,develop,evolve,database,strategy,defines,information,infrastructure,necessary,meet,canfor,system,requirement,cost-optimized,secure,reliable,performance,efficient,operationally,excellent,timely,manner,evaluate,recommend,new,database,technology,enhancement,become,available,appropriate,business,requirement,perform,database,architecture,design,planning,activity,implement,database,technology,division,develop,implement,database,security,standard,guideline,develop,program,utility,script,assist,controlling,reporting,database,security,access,develop,implement,backup,recovery,strategy,database,monitor,maintain,database,integrity,security,working,security,team,implement,secure,infrastructure,strategy,system,project,consulting,directly,it,security,administrator,ensure,database,system,security,procedure,consistent,corporate,policy,develop,process,optimizing,database,security,manage,database,access,operation,responsible,installation,patching,upgrade,managing,database,application,performance,tuning,optimization,database,system,responsible,participating,technical,deep-dives,including,root,cause,analysis,mentoring,educating,it,infrastructure,it,team,member,database,-,technical,process,best,practice,diagnose,troubleshoot,database,error,create,manage,database,report,visualization,dashboard,project,project,management,internal,it,infrastructure,project,responsible,ensuring,project,deliver,database,infrastructure,architectural,requirement,the,candidate,technical,school,diploma,database,administration,university,degree,plus,minimum,year,progressively,responsible,experience,information,service,including,least,year,database,administrator,or,equivalent,combination,education,experience,demonstrated,experience,oracle,database,database,technology,impeccable,attention,detail,advanced,knowledge,database,security,backup,recovery,performance,monitoring,standard,proficient,itil,strategy,operation,us,systematic,logical,approach,analyzing,problem,researching,information,explores,various,alternative,implement,action,plan,resolve,problem,self-starter,able,work,independently,minimal,supervision,strong,mathematical,statistical,knowledge,skill,ability,strong,command,sql,sql,server,tool,demonstrated,experience,amazon,web,service,(aws),demonstrated,experience,virtualization,technology,vmware,citrix,demonstrated,experience,microsoft,technology,including,window,active,directory,etc,demonstrated,experience,linux,demonstrated,experience,storage,system,na,san,experience,disaster,recovery,business,continuity,planning,an,extensive,knowledge,networking,internet,based,protocol,tcp,ip,dns,ethernet,vpn,etc,demonstrated,knowledge,capacity,performance,planning,monitoring,working,knowledge,system,interface,edi,understanding,relational,dimensional,data,modeling,powershell,unix,linux,shell,scripting,skill,our,talent,acquisition,team,actively,recruiting,role,order,considered,please,apply,today!,at,canfor,diversity,mean,understanding,recognizing,valuing,difference,make,person,unique,we,see,inclusion,diversity,essential,part,productivity,creativity,innovation,competitive,advantage,we,strive,fair,equitable,recruitment,process,hiring,decision,based,individual,qualification,experience,applicant,we,run,mill,forest,product,company,join,u,find,canfortalent,follow,u,linkedin,twitter,facebook,canfor,news,career,opportunity,upcoming,events!,vancouver,bc,the,city,vancouver,natural,beauty,progressive,urban,centre,rare,place,earth,idyllic,electric,with,one,canada’s,mildest,climate,vancouver,ideally,suited,devoted,outdoor,pursuit,health,wellness,along,endless,supply,fresh,air,clean,water,vancouver,also,boast,countless,choice,culturally,diverse,world-class,cuisine,inventory,art,entertainment,event,for,information,visit,http,canfor,com,our-company,our-communities,vancouver,ind123,30+,day,ago,report,job', 'senior oracle database administrator']\n"
     ]
    }
   ],
   "source": [
    "from nltk.stem import WordNetLemmatizer\n",
    "ps = WordNetLemmatizer()\n",
    "\n",
    "\n",
    "used_words = [] ## old_encodings that we have used before\n",
    "new_words = [] ## new_encodings for the new column\n",
    "stop_words = set(stopwords.words(\"english\"))\n",
    "\n",
    "## Figure out one-hot encodings for title\n",
    "final_data = []\n",
    "for title, description in example_arr:\n",
    "    new_row = []\n",
    "\n",
    "    new_row.append(title.lower().strip()) ## job_title\n",
    "    new_row.append(description[0:min(find_nth(description, \".\", 2), find_nth(description, \"\\n\", 6)) + 1].lower()) ## Short Description\n",
    "\n",
    "    description = re.split('[\\#\\$\\%\\&\\'\\ \\.\\/\\:\\;\\<\\=\\>\\?\\@\\[\\]\\^\\`\\{\\}\\|\\,|\\\\n]+', description) ## Split whitespace and punctuation\n",
    "\n",
    "    ## Remove stop_words, then stem leftover words\n",
    "    new_row.append(\",\".join([ps.lemmatize(word.lower()) for word in description if word not in stop_words and word != '' and not RepresentsInt(word)]))\n",
    "    nltk_name = []\n",
    "    for new_word in re.split('[\\W+]', title):\n",
    "        result = new_word ## default case when there are no used words. We assign new column = 1 by default\n",
    "        for old_word in used_words:\n",
    "            result = compare_two_synsets(old_word, new_word)\n",
    "            if result == new_word:\n",
    "                pass \n",
    "            else:\n",
    "                print(\"%s and %s are similar\" % (old_word, new_word))\n",
    "                nltk_name.append(result) ## similarity > 0.34. Assign 1 to existing encoding.\n",
    "                break\n",
    "            \n",
    "        if result == new_word: ## similarity < 0.34 compared to all used words\n",
    "            nltk_name.append(result)\n",
    "    \n",
    "    new_row.append((' '.join(nltk_name)).lower()) ## nltk_title\n",
    "    final_data.append(new_row)\n",
    "\n",
    "print(final_data[0])\n",
    "# from nltk.stem import PorterStemmer \n",
    "# ps = PorterStemmer() \n",
    "\n",
    "\n",
    "# final_data = []\n",
    "# ## Figure out one-hot encodings for title\n",
    "# for title, description in example_arr:\n",
    "#     new_row = [0 for i in range(len(empty_frame.columns))]\n",
    "\n",
    "#     new_row[columns_indices[\"Job_Title\"]] = title\n",
    "#     new_row[columns_indices[\"Short_Desc\"]] = description[0:100]\n",
    "\n",
    "#     description = re.split('\\W+', description) ## Split whitespace and punctuation\n",
    "\n",
    "#     ## Remove stop_words, then stem leftover words\n",
    "#     new_description = [word for word in description if word not in stop_words]\n",
    "#     new_row[columns_indices[\"Skills\"]] = \",\".join(new_description)\n",
    "\n",
    "\n",
    "#     for new_word in re.split('\\W+', title):\n",
    "#         ## We want to treat Software like software_engineer\n",
    "#         new_word = new_word if new_word != \"Software\" else \"software_engineer\"\n",
    "#         if new_word in columns_indices:\n",
    "#             new_row[columns_indices[new_word]] = 1\n",
    "\n",
    "    \n",
    "#     final_data.append(new_row)\n",
    "\n",
    "\n",
    "# final_data\n",
    "\n",
    "\n",
    "    \n",
    "    \n",
    "    \n",
    "    \n",
    "  \n",
    "\n",
    "    \n",
    "    \n",
    "    \n",
    "    \n",
    "  "
   ]
  },
  {
   "cell_type": "code",
   "execution_count": 270,
   "metadata": {},
   "outputs": [
    {
     "output_type": "execute_result",
     "data": {
      "text/plain": [
       "['senior oracle database administrator',\n",
       " 'posting id:\\n20152\\n\\nposition type:\\nregular/full-time\\n\\n',\n",
       " 'posting,id,position,type,regular,full-time,city,vancouver,bc,canada,location,vancouver,h,o,-,canfor,cwpm_1000,(bc13),canfor’s,strength,come,diversity,skilled,resilient,workforce,a,company,continues,grow,diversify,career,opportunity,let,u,take,opportunity,tell,could,best,fit,canfor,the,opportunity,the,senior,oracle,database,administrator,(dba),responsible,aspect,corporate,database,strategy,planning,security,implementation,consulting,technical,support,the,dba,evaluates,selects,implement,database,software,utility,hardware,meet,corporate,business,system,requirement,according,principle,policy,information,technology,architecture,defined,senior,management,the,goal,database,administrator,develop,efficient,effective,facility,procedure,design,storage,maintenance,protection,corporate,data,resource,the,position,generally,involved,number,project,may,require,work,outside,regular,business,hour,this,position,also,participate,on-call,rotation,it,operation,support,travel,may,involved,this,role,based,either,head,office,vancouver,bc,canfor,administration,centre,prince,george,bc,key,responsibility,database,strategy,planning,develop,evolve,database,strategy,defines,information,infrastructure,necessary,meet,canfor,system,requirement,cost-optimized,secure,reliable,performance,efficient,operationally,excellent,timely,manner,evaluate,recommend,new,database,technology,enhancement,become,available,appropriate,business,requirement,perform,database,architecture,design,planning,activity,implement,database,technology,division,develop,implement,database,security,standard,guideline,develop,program,utility,script,assist,controlling,reporting,database,security,access,develop,implement,backup,recovery,strategy,database,monitor,maintain,database,integrity,security,working,security,team,implement,secure,infrastructure,strategy,system,project,consulting,directly,it,security,administrator,ensure,database,system,security,procedure,consistent,corporate,policy,develop,process,optimizing,database,security,manage,database,access,operation,responsible,installation,patching,upgrade,managing,database,application,performance,tuning,optimization,database,system,responsible,participating,technical,deep-dives,including,root,cause,analysis,mentoring,educating,it,infrastructure,it,team,member,database,-,technical,process,best,practice,diagnose,troubleshoot,database,error,create,manage,database,report,visualization,dashboard,project,project,management,internal,it,infrastructure,project,responsible,ensuring,project,deliver,database,infrastructure,architectural,requirement,the,candidate,technical,school,diploma,database,administration,university,degree,plus,minimum,year,progressively,responsible,experience,information,service,including,least,year,database,administrator,or,equivalent,combination,education,experience,demonstrated,experience,oracle,database,database,technology,impeccable,attention,detail,advanced,knowledge,database,security,backup,recovery,performance,monitoring,standard,proficient,itil,strategy,operation,us,systematic,logical,approach,analyzing,problem,researching,information,explores,various,alternative,implement,action,plan,resolve,problem,self-starter,able,work,independently,minimal,supervision,strong,mathematical,statistical,knowledge,skill,ability,strong,command,sql,sql,server,tool,demonstrated,experience,amazon,web,service,(aws),demonstrated,experience,virtualization,technology,vmware,citrix,demonstrated,experience,microsoft,technology,including,window,active,directory,etc,demonstrated,experience,linux,demonstrated,experience,storage,system,na,san,experience,disaster,recovery,business,continuity,planning,an,extensive,knowledge,networking,internet,based,protocol,tcp,ip,dns,ethernet,vpn,etc,demonstrated,knowledge,capacity,performance,planning,monitoring,working,knowledge,system,interface,edi,understanding,relational,dimensional,data,modeling,powershell,unix,linux,shell,scripting,skill,our,talent,acquisition,team,actively,recruiting,role,order,considered,please,apply,today!,at,canfor,diversity,mean,understanding,recognizing,valuing,difference,make,person,unique,we,see,inclusion,diversity,essential,part,productivity,creativity,innovation,competitive,advantage,we,strive,fair,equitable,recruitment,process,hiring,decision,based,individual,qualification,experience,applicant,we,run,mill,forest,product,company,join,u,find,canfortalent,follow,u,linkedin,twitter,facebook,canfor,news,career,opportunity,upcoming,events!,vancouver,bc,the,city,vancouver,natural,beauty,progressive,urban,centre,rare,place,earth,idyllic,electric,with,one,canada’s,mildest,climate,vancouver,ideally,suited,devoted,outdoor,pursuit,health,wellness,along,endless,supply,fresh,air,clean,water,vancouver,also,boast,countless,choice,culturally,diverse,world-class,cuisine,inventory,art,entertainment,event,for,information,visit,http,canfor,com,our-company,our-communities,vancouver,ind123,30+,day,ago,report,job',\n",
       " 'senior oracle database administrator']"
      ]
     },
     "metadata": {},
     "execution_count": 270
    }
   ],
   "source": [
    "final_data[0]"
   ]
  },
  {
   "cell_type": "code",
   "execution_count": 271,
   "metadata": {},
   "outputs": [],
   "source": [
    "processed_df = pd.DataFrame(final_data, columns=[\"Job_Title\", \"Short_Desc\", \"Skills\", \"Predicted_Job_Title\"])"
   ]
  },
  {
   "cell_type": "code",
   "execution_count": 272,
   "metadata": {},
   "outputs": [],
   "source": [
    "processed_df.columns = [column.lower() for column in processed_df.columns.to_list()]\n"
   ]
  },
  {
   "cell_type": "code",
   "execution_count": 273,
   "metadata": {},
   "outputs": [
    {
     "output_type": "execute_result",
     "data": {
      "text/plain": [
       "                                job_title  \\\n",
       "0    senior oracle database administrator   \n",
       "1  database administrator (ms sql server)   \n",
       "2                  database administrator   \n",
       "3              sql database administrator   \n",
       "4            database administrator (dba)   \n",
       "\n",
       "                                          short_desc  \\\n",
       "0  posting id:\\n20152\\n\\nposition type:\\nregular/...   \n",
       "1  seeking a database administrator (12 month con...   \n",
       "2  a service-driven paper and packaging products ...   \n",
       "3  we are traffic tech, the hardest working team ...   \n",
       "4                                                      \n",
       "\n",
       "                                              skills  \\\n",
       "0  posting,id,position,type,regular,full-time,cit...   \n",
       "1  seeking,database,administrator,(12,month,contr...   \n",
       "2  a,service-driven,paper,packaging,product,compa...   \n",
       "3  we,traffic,tech,hardest,working,team,transport...   \n",
       "4  specific,skill,collect,document,user,requireme...   \n",
       "\n",
       "                      predicted_job_title  \n",
       "0    senior oracle database administrator  \n",
       "1  database administrator  ms sql server   \n",
       "2                  database administrator  \n",
       "3              sql database administrator  \n",
       "4            database administrator  dba   "
      ],
      "text/html": "<div>\n<style scoped>\n    .dataframe tbody tr th:only-of-type {\n        vertical-align: middle;\n    }\n\n    .dataframe tbody tr th {\n        vertical-align: top;\n    }\n\n    .dataframe thead th {\n        text-align: right;\n    }\n</style>\n<table border=\"1\" class=\"dataframe\">\n  <thead>\n    <tr style=\"text-align: right;\">\n      <th></th>\n      <th>job_title</th>\n      <th>short_desc</th>\n      <th>skills</th>\n      <th>predicted_job_title</th>\n    </tr>\n  </thead>\n  <tbody>\n    <tr>\n      <th>0</th>\n      <td>senior oracle database administrator</td>\n      <td>posting id:\\n20152\\n\\nposition type:\\nregular/...</td>\n      <td>posting,id,position,type,regular,full-time,cit...</td>\n      <td>senior oracle database administrator</td>\n    </tr>\n    <tr>\n      <th>1</th>\n      <td>database administrator (ms sql server)</td>\n      <td>seeking a database administrator (12 month con...</td>\n      <td>seeking,database,administrator,(12,month,contr...</td>\n      <td>database administrator  ms sql server</td>\n    </tr>\n    <tr>\n      <th>2</th>\n      <td>database administrator</td>\n      <td>a service-driven paper and packaging products ...</td>\n      <td>a,service-driven,paper,packaging,product,compa...</td>\n      <td>database administrator</td>\n    </tr>\n    <tr>\n      <th>3</th>\n      <td>sql database administrator</td>\n      <td>we are traffic tech, the hardest working team ...</td>\n      <td>we,traffic,tech,hardest,working,team,transport...</td>\n      <td>sql database administrator</td>\n    </tr>\n    <tr>\n      <th>4</th>\n      <td>database administrator (dba)</td>\n      <td></td>\n      <td>specific,skill,collect,document,user,requireme...</td>\n      <td>database administrator  dba</td>\n    </tr>\n  </tbody>\n</table>\n</div>"
     },
     "metadata": {},
     "execution_count": 273
    }
   ],
   "source": [
    "processed_df.head()"
   ]
  },
  {
   "cell_type": "code",
   "execution_count": 274,
   "metadata": {},
   "outputs": [
    {
     "output_type": "execute_result",
     "data": {
      "text/plain": [
       "'posting,id,position,type,regular,full-time,city,vancouver,bc,canada,location,vancouver,h,o,-,canfor,cwpm_1000,(bc13),canfor’s,strength,come,diversity,skilled,resilient,workforce,a,company,continues,grow,diversify,career,opportunity,let,u,take,opportunity,tell,could,best,fit,canfor,the,opportunity,the,senior,oracle,database,administrator,(dba),responsible,aspect,corporate,database,strategy,planning,security,implementation,consulting,technical,support,the,dba,evaluates,selects,implement,database,software,utility,hardware,meet,corporate,business,system,requirement,according,principle,policy,information,technology,architecture,defined,senior,management,the,goal,database,administrator,develop,efficient,effective,facility,procedure,design,storage,maintenance,protection,corporate,data,resource,the,position,generally,involved,number,project,may,require,work,outside,regular,business,hour,this,position,also,participate,on-call,rotation,it,operation,support,travel,may,involved,this,role,based,either,head,office,vancouver,bc,canfor,administration,centre,prince,george,bc,key,responsibility,database,strategy,planning,develop,evolve,database,strategy,defines,information,infrastructure,necessary,meet,canfor,system,requirement,cost-optimized,secure,reliable,performance,efficient,operationally,excellent,timely,manner,evaluate,recommend,new,database,technology,enhancement,become,available,appropriate,business,requirement,perform,database,architecture,design,planning,activity,implement,database,technology,division,develop,implement,database,security,standard,guideline,develop,program,utility,script,assist,controlling,reporting,database,security,access,develop,implement,backup,recovery,strategy,database,monitor,maintain,database,integrity,security,working,security,team,implement,secure,infrastructure,strategy,system,project,consulting,directly,it,security,administrator,ensure,database,system,security,procedure,consistent,corporate,policy,develop,process,optimizing,database,security,manage,database,access,operation,responsible,installation,patching,upgrade,managing,database,application,performance,tuning,optimization,database,system,responsible,participating,technical,deep-dives,including,root,cause,analysis,mentoring,educating,it,infrastructure,it,team,member,database,-,technical,process,best,practice,diagnose,troubleshoot,database,error,create,manage,database,report,visualization,dashboard,project,project,management,internal,it,infrastructure,project,responsible,ensuring,project,deliver,database,infrastructure,architectural,requirement,the,candidate,technical,school,diploma,database,administration,university,degree,plus,minimum,year,progressively,responsible,experience,information,service,including,least,year,database,administrator,or,equivalent,combination,education,experience,demonstrated,experience,oracle,database,database,technology,impeccable,attention,detail,advanced,knowledge,database,security,backup,recovery,performance,monitoring,standard,proficient,itil,strategy,operation,us,systematic,logical,approach,analyzing,problem,researching,information,explores,various,alternative,implement,action,plan,resolve,problem,self-starter,able,work,independently,minimal,supervision,strong,mathematical,statistical,knowledge,skill,ability,strong,command,sql,sql,server,tool,demonstrated,experience,amazon,web,service,(aws),demonstrated,experience,virtualization,technology,vmware,citrix,demonstrated,experience,microsoft,technology,including,window,active,directory,etc,demonstrated,experience,linux,demonstrated,experience,storage,system,na,san,experience,disaster,recovery,business,continuity,planning,an,extensive,knowledge,networking,internet,based,protocol,tcp,ip,dns,ethernet,vpn,etc,demonstrated,knowledge,capacity,performance,planning,monitoring,working,knowledge,system,interface,edi,understanding,relational,dimensional,data,modeling,powershell,unix,linux,shell,scripting,skill,our,talent,acquisition,team,actively,recruiting,role,order,considered,please,apply,today!,at,canfor,diversity,mean,understanding,recognizing,valuing,difference,make,person,unique,we,see,inclusion,diversity,essential,part,productivity,creativity,innovation,competitive,advantage,we,strive,fair,equitable,recruitment,process,hiring,decision,based,individual,qualification,experience,applicant,we,run,mill,forest,product,company,join,u,find,canfortalent,follow,u,linkedin,twitter,facebook,canfor,news,career,opportunity,upcoming,events!,vancouver,bc,the,city,vancouver,natural,beauty,progressive,urban,centre,rare,place,earth,idyllic,electric,with,one,canada’s,mildest,climate,vancouver,ideally,suited,devoted,outdoor,pursuit,health,wellness,along,endless,supply,fresh,air,clean,water,vancouver,also,boast,countless,choice,culturally,diverse,world-class,cuisine,inventory,art,entertainment,event,for,information,visit,http,canfor,com,our-company,our-communities,vancouver,ind123,30+,day,ago,report,job'"
      ]
     },
     "metadata": {},
     "execution_count": 274
    }
   ],
   "source": [
    "processed_df.iloc[0][\"skills\"]"
   ]
  },
  {
   "cell_type": "code",
   "execution_count": 275,
   "metadata": {},
   "outputs": [
    {
     "output_type": "execute_result",
     "data": {
      "text/plain": [
       "Index(['job_title', 'short_desc', 'skills', 'predicted_job_title'], dtype='object')"
      ]
     },
     "metadata": {},
     "execution_count": 275
    }
   ],
   "source": [
    "processed_df.columns"
   ]
  },
  {
   "cell_type": "code",
   "execution_count": 276,
   "metadata": {},
   "outputs": [],
   "source": [
    "prev_df = pd.read_csv(\"processScraper.csv\", index_col=0)"
   ]
  },
  {
   "cell_type": "code",
   "execution_count": 277,
   "metadata": {},
   "outputs": [],
   "source": [
    "final_df = pd.concat([prev_df, processed_df])"
   ]
  },
  {
   "cell_type": "code",
   "execution_count": null,
   "metadata": {},
   "outputs": [],
   "source": [
    "final_df.index = [i for i in range(final_df.shape[0])]"
   ]
  },
  {
   "cell_type": "code",
   "execution_count": 278,
   "metadata": {},
   "outputs": [],
   "source": [
    "final_df.to_csv(\"processScraper.csv\")"
   ]
  },
  {
   "cell_type": "code",
   "execution_count": 279,
   "metadata": {},
   "outputs": [],
   "source": [
    "final_df[[\"skills\", \"job_title\"]].to_csv(\"processScraper_wo_encoding.csv\")"
   ]
  },
  {
   "cell_type": "code",
   "execution_count": 280,
   "metadata": {},
   "outputs": [
    {
     "output_type": "execute_result",
     "data": {
      "text/plain": [
       "                                           job_title  \\\n",
       "0                                      jr. sous chef   \n",
       "1                                executive head chef   \n",
       "2                                          sous chef   \n",
       "3          looking to build a new team of line cooks   \n",
       "4                                      chef de train   \n",
       "..                                               ...   \n",
       "40  oracle database enterprise edition administrator   \n",
       "41                            database administrator   \n",
       "42                            database administrator   \n",
       "43                            database administrator   \n",
       "44                     senior database administrator   \n",
       "\n",
       "                                           short_desc  \\\n",
       "0   golden eagle golf club is a 36 hole golf facil...   \n",
       "1              executive head chef\\njob description\\n   \n",
       "2   north shore catering is looking for chef and s...   \n",
       "3   urgently hiring\\nworking chef and sous chef an...   \n",
       "4   pour faire carrière au chemin de fer, il est e...   \n",
       "..                                                ...   \n",
       "40  samiti technology company is actively seeking ...   \n",
       "41  grow with the best. join a smart, creative, an...   \n",
       "42  at caesars windsor, it’s our mission to inspir...   \n",
       "43  salary: $32.00/hourly\\njob type: full time, pe...   \n",
       "44  the senior database administrator reports to t...   \n",
       "\n",
       "                                               skills  \\\n",
       "0   golden,eagle,golf,club,hole,golf,facility,situ...   \n",
       "1   executive,head,chef,job,description,position,e...   \n",
       "2   north,shore,catering,looking,chef,sou,chef,pos...   \n",
       "3   urgently,hiring,working,chef,sou,chef,line,coo...   \n",
       "4   pour,faire,carrière,au,chemin,de,fer,il,est,es...   \n",
       "..                                                ...   \n",
       "40  samiti,technology,company,actively,seeking,ora...   \n",
       "41  grow,best,join,smart,creative,inspired,team,wo...   \n",
       "42  at,caesar,windsor,it’s,mission,inspire,grown-u...   \n",
       "43  salary,hourly,job,type,full,time,permanent,sta...   \n",
       "44  the,senior,database,administrator,report,datab...   \n",
       "\n",
       "                                 predicted_job_title  \n",
       "0                                      jr  sous chef  \n",
       "1                                executive head chef  \n",
       "2                                          sous chef  \n",
       "3          looking to build a new team of line cooks  \n",
       "4                                      chef de train  \n",
       "..                                               ...  \n",
       "40  oracle database enterprise edition administrator  \n",
       "41                            database administrator  \n",
       "42                            database administrator  \n",
       "43                            database administrator  \n",
       "44                     senior database administrator  \n",
       "\n",
       "[179 rows x 4 columns]"
      ],
      "text/html": "<div>\n<style scoped>\n    .dataframe tbody tr th:only-of-type {\n        vertical-align: middle;\n    }\n\n    .dataframe tbody tr th {\n        vertical-align: top;\n    }\n\n    .dataframe thead th {\n        text-align: right;\n    }\n</style>\n<table border=\"1\" class=\"dataframe\">\n  <thead>\n    <tr style=\"text-align: right;\">\n      <th></th>\n      <th>job_title</th>\n      <th>short_desc</th>\n      <th>skills</th>\n      <th>predicted_job_title</th>\n    </tr>\n  </thead>\n  <tbody>\n    <tr>\n      <th>0</th>\n      <td>jr. sous chef</td>\n      <td>golden eagle golf club is a 36 hole golf facil...</td>\n      <td>golden,eagle,golf,club,hole,golf,facility,situ...</td>\n      <td>jr  sous chef</td>\n    </tr>\n    <tr>\n      <th>1</th>\n      <td>executive head chef</td>\n      <td>executive head chef\\njob description\\n</td>\n      <td>executive,head,chef,job,description,position,e...</td>\n      <td>executive head chef</td>\n    </tr>\n    <tr>\n      <th>2</th>\n      <td>sous chef</td>\n      <td>north shore catering is looking for chef and s...</td>\n      <td>north,shore,catering,looking,chef,sou,chef,pos...</td>\n      <td>sous chef</td>\n    </tr>\n    <tr>\n      <th>3</th>\n      <td>looking to build a new team of line cooks</td>\n      <td>urgently hiring\\nworking chef and sous chef an...</td>\n      <td>urgently,hiring,working,chef,sou,chef,line,coo...</td>\n      <td>looking to build a new team of line cooks</td>\n    </tr>\n    <tr>\n      <th>4</th>\n      <td>chef de train</td>\n      <td>pour faire carrière au chemin de fer, il est e...</td>\n      <td>pour,faire,carrière,au,chemin,de,fer,il,est,es...</td>\n      <td>chef de train</td>\n    </tr>\n    <tr>\n      <th>...</th>\n      <td>...</td>\n      <td>...</td>\n      <td>...</td>\n      <td>...</td>\n    </tr>\n    <tr>\n      <th>40</th>\n      <td>oracle database enterprise edition administrator</td>\n      <td>samiti technology company is actively seeking ...</td>\n      <td>samiti,technology,company,actively,seeking,ora...</td>\n      <td>oracle database enterprise edition administrator</td>\n    </tr>\n    <tr>\n      <th>41</th>\n      <td>database administrator</td>\n      <td>grow with the best. join a smart, creative, an...</td>\n      <td>grow,best,join,smart,creative,inspired,team,wo...</td>\n      <td>database administrator</td>\n    </tr>\n    <tr>\n      <th>42</th>\n      <td>database administrator</td>\n      <td>at caesars windsor, it’s our mission to inspir...</td>\n      <td>at,caesar,windsor,it’s,mission,inspire,grown-u...</td>\n      <td>database administrator</td>\n    </tr>\n    <tr>\n      <th>43</th>\n      <td>database administrator</td>\n      <td>salary: $32.00/hourly\\njob type: full time, pe...</td>\n      <td>salary,hourly,job,type,full,time,permanent,sta...</td>\n      <td>database administrator</td>\n    </tr>\n    <tr>\n      <th>44</th>\n      <td>senior database administrator</td>\n      <td>the senior database administrator reports to t...</td>\n      <td>the,senior,database,administrator,report,datab...</td>\n      <td>senior database administrator</td>\n    </tr>\n  </tbody>\n</table>\n<p>179 rows × 4 columns</p>\n</div>"
     },
     "metadata": {},
     "execution_count": 280
    }
   ],
   "source": [
    "final_df"
   ]
  },
  {
   "cell_type": "code",
   "execution_count": null,
   "metadata": {},
   "outputs": [],
   "source": []
  }
 ]
}